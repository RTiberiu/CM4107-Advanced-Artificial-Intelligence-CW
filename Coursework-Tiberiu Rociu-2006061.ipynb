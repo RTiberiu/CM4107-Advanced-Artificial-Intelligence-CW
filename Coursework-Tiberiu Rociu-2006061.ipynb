{
 "cells": [
  {
   "cell_type": "markdown",
   "metadata": {},
   "source": [
    "# Sentiment Analysis on IMDb reviews using BiLSTM and ELECTRA\n",
    "Author: Tiberiu Rociu  \n",
    "Student ID: 2006061  \n",
    "<small>*Total word count: 915 words*</small>\n",
    "\n",
    "# I. Introduction\n",
    "<small>*Section word count: 141 words*</small>\n",
    "\n",
    "The IMDb dataset (Kwaai, 2024) is a collection of 50,000 movie reviews, structured as a collection of text and label pairs. The dataset is popular for binary sentiment analysis in machine learning papers.\n",
    "\n",
    "The task performed in this coursework is a binary sentiment classification, with the goal of predicting if a review is positive or negative, when analysing the review's textual contents that are being passed as input. As the name implies, there are only two labels for this dataset, `0` for negative, and `1` for positive.\n",
    "\n",
    "To accomplish this task, two NLP models will be used, BiLSTM and ELECTRA. An NLP model architecture is needed for this task, as the review semantics need to be understood in order to assess the sentiment behind it. Simpler machine learning models like Random Forest or Support Vector Machine won't be able to capture this nuances. \n",
    "\n",
    "# II. Representation Learning\n",
    "\n",
    "<small>*Section word count: 264 words*</small>\n",
    "\n",
    "There are two methods used in this coursework for converting the textual data into a numerical vector, each to fit the expected format of the model they will be used on.\n",
    "\n",
    "The first method involves running the reviews through a custom pre-processing function that will remove numbers, tokenize the text using RegexpTokenizer, normalizing the text, removing stopwords using Nltk, and lastly, lemmatizing the tokens using WordNetLemmatizer. The next step of the vectorization pipeline is running the tokens through a custom FastText vectorizer, where each token is matched with a key in the FastText dictionary and replaced with the vector representation of that word. Lastly, for the FastText vectorization, the tokenized vectors will be padded to ensure dimension consistency and reshaped to a 3D representation to match the expected model input.\n",
    "\n",
    "The second method is simpler in terms of implementation and differs from the first one, as the ELECTRA model expects the vectorization to be performed by the ElectraTokenizer. This tokenizer will automatically perform the pre-processing and vectorization, so things like manual lemmatization or stemming are not needed, since they might clash with the word dictionary that the ELECTRA tokenizer is using. Besides the vectorized tokens, the ElectraTokenizer will also return an attention mask to explicitly tell the model which tokens are padding and which are words, ensuring the model focuses on important words.\n",
    "\n",
    "Both vectorization methods have the length of 250 tokens, as this encompasses the length of 90% of the reviews in the dataset. Longer reviews will have to be truncated, because accommodating for all their size would drastically increase the training time.\n",
    "\n",
    "\n",
    "\n"
   ]
  },
  {
   "cell_type": "code",
   "execution_count": 1,
   "metadata": {},
   "outputs": [
    {
     "data": {
      "text/plain": [
       "CompletedProcess(args=['pip', 'install', '-r', 'requirements.txt'], returncode=1)"
      ]
     },
     "execution_count": 1,
     "metadata": {},
     "output_type": "execute_result"
    }
   ],
   "source": [
    "import subprocess\n",
    "\n",
    "# Installing all the required dependencies for the project\n",
    "subprocess.run([\"pip\", \"install\", \"-r\", \"requirements.txt\"], stdout=subprocess.DEVNULL, stderr=subprocess.DEVNULL)"
   ]
  },
  {
   "cell_type": "code",
   "execution_count": 2,
   "metadata": {},
   "outputs": [
    {
     "name": "stdout",
     "output_type": "stream",
     "text": [
      "Success: FastText vector dictionary already unzipped.\n"
     ]
    }
   ],
   "source": [
    "# Unzipping the FastText dictionary for fresh repo clones. Storing the unzipped file wasn't possible because of GitHub's large file limitations\n",
    "import os\n",
    "import zipfile\n",
    "\n",
    "zip_path = 'Libraries/FastText/wiki-news-300d-1M.vec.zip'\n",
    "target_file_path = 'Libraries/FastText/wiki-news-300d-1M.vec'\n",
    "\n",
    "if not os.path.exists(target_file_path):\n",
    "    if os.path.exists(zip_path):\n",
    "        # Unzip the file\n",
    "        with zipfile.ZipFile(zip_path, 'r') as zip_ref:\n",
    "            zip_ref.extractall('Libraries/FastText')\n",
    "        print(\"Success: FastText vector dictionary unzipped successfully.\")\n",
    "    else:\n",
    "        print(\"Error: FastText vector ZIP file not found.\")\n",
    "else:\n",
    "    print(\"Success: FastText vector dictionary already unzipped.\")\n"
   ]
  },
  {
   "cell_type": "code",
   "execution_count": 3,
   "metadata": {},
   "outputs": [],
   "source": [
    "import pandas as pd\n",
    "\n",
    "# Importing the training and testing datasets\n",
    "dataset_splits = {'train': 'Dataset_IMDB_Sentiment/plain_text/train-00000-of-00001.parquet', 'test': 'Dataset_IMDB_Sentiment/plain_text/test-00000-of-00001.parquet'}\n",
    "imdb_train_df = pd.read_parquet(dataset_splits[\"train\"])\n",
    "imdb_test_df = pd.read_parquet(dataset_splits['test'])"
   ]
  },
  {
   "cell_type": "code",
   "execution_count": 4,
   "metadata": {},
   "outputs": [
    {
     "name": "stdout",
     "output_type": "stream",
     "text": [
      "                                                text  label\n",
      "0  I rented I AM CURIOUS-YELLOW from my video sto...      0\n",
      "1  \"I Am Curious: Yellow\" is a risible and preten...      0\n",
      "2  If only to avoid making this type of film in t...      0\n",
      "3  This film was probably inspired by Godard's Ma...      0\n",
      "4  Oh, brother...after hearing about this ridicul...      0\n",
      "Row count: 25000\n"
     ]
    }
   ],
   "source": [
    "# Visualising the dataset \n",
    "print(imdb_train_df.head(5))\n",
    "print(f\"Row count: {len(imdb_train_df)}\")"
   ]
  },
  {
   "cell_type": "code",
   "execution_count": 5,
   "metadata": {},
   "outputs": [
    {
     "name": "stdout",
     "output_type": "stream",
     "text": [
      "The train dataset has 0 missing reviews and 0 missing labels.\n",
      "The test dataset has 0 missing reviews and 0 missing labels.\n",
      "\n",
      "Statistics for the train dataset:\n",
      "\tAverage review word count: 234\n",
      "\tMinimum review word count: 10\n",
      "\tMaximum review word count: 2470\n",
      "\n",
      "Statistics for the test dataset:\n",
      "\tAverage review word count: 229\n",
      "\tMinimum review word count: 4\n",
      "\tMaximum review word count: 2278\n"
     ]
    }
   ],
   "source": [
    "# Showing the amount of gaps for the train and test dataset\n",
    "missing_values_train = imdb_train_df[['text', 'label']].isnull().sum().to_dict()\n",
    "missing_values_test = imdb_test_df[['text', 'label']].isnull().sum().to_dict()\n",
    "print(f\"The train dataset has {missing_values_train['text']} missing reviews and {missing_values_train['label']} missing labels.\")\n",
    "print(f\"The test dataset has {missing_values_test['text']} missing reviews and {missing_values_test['label']} missing labels.\")\n",
    "\n",
    "# Calculate review lengths\n",
    "imdb_train_df['review_length'] = imdb_train_df['text'].apply(len)\n",
    "imdb_test_df['review_length'] = imdb_test_df['text'].apply(len)\n",
    "\n",
    "# Statistics for review lengths\n",
    "def print_dataset_basic_statistics(df, dataset_name):\n",
    "    # Caclulate the total word count for each review \n",
    "    df['review_length'] = df['text'].apply(lambda review: len(str(review).split()))\n",
    "    print(f\"\\nStatistics for the {dataset_name} dataset:\")\n",
    "    print(f\"\\tAverage review word count: {df['review_length'].mean():.0f}\")\n",
    "    print(f\"\\tMinimum review word count: {df['review_length'].min()}\")\n",
    "    print(f\"\\tMaximum review word count: {df['review_length'].max()}\")\n",
    "\n",
    "print_dataset_basic_statistics(imdb_train_df, \"train\")\n",
    "print_dataset_basic_statistics(imdb_test_df, \"test\")"
   ]
  },
  {
   "cell_type": "code",
   "execution_count": 6,
   "metadata": {},
   "outputs": [
    {
     "name": "stderr",
     "output_type": "stream",
     "text": [
      "[nltk_data] Downloading package punkt to\n",
      "[nltk_data]     C:\\Users\\Tiberiu\\AppData\\Roaming\\nltk_data...\n",
      "[nltk_data]   Package punkt is already up-to-date!\n",
      "[nltk_data] Downloading package stopwords to\n",
      "[nltk_data]     C:\\Users\\Tiberiu\\AppData\\Roaming\\nltk_data...\n",
      "[nltk_data]   Package stopwords is already up-to-date!\n"
     ]
    },
    {
     "data": {
      "text/plain": [
       "True"
      ]
     },
     "execution_count": 6,
     "metadata": {},
     "output_type": "execute_result"
    }
   ],
   "source": [
    "import nltk\n",
    "nltk.download('punkt') \n",
    "nltk.download('stopwords')"
   ]
  },
  {
   "cell_type": "code",
   "execution_count": 7,
   "metadata": {},
   "outputs": [],
   "source": [
    "from sklearn.base import BaseEstimator, TransformerMixin # This allows the custom class to work with the Pipeline\n",
    "from nltk.tokenize import word_tokenize, RegexpTokenizer # Import the tokenize package and regex tokenizer\n",
    "from nltk.corpus import stopwords # Import stopwords for stopwords removal\n",
    "from nltk.stem import SnowballStemmer, WordNetLemmatizer # Import the snowball stemmer (also known as Porter2)\n",
    "import re # Import regex\n",
    "import numpy as np\n",
    "\n",
    "class pre_process(BaseEstimator, TransformerMixin):\n",
    "    def __init__(self):\n",
    "      # Initialize objects for efficiency\n",
    "      self.stemmer = SnowballStemmer(\"english\")\n",
    "      self.lemmatizer = WordNetLemmatizer()\n",
    "      self.tokenizer = self.tokenizer = RegexpTokenizer(r'\\w+')\n",
    "      self.stopwords = stopwords.words(\"english\")\n",
    "      return None\n",
    "\n",
    "    def fit(self, X, y=None):\n",
    "        return self \n",
    "\n",
    "    def transform(self, X, y=None):\n",
    "      processed_text = []\n",
    "      for text in X:\n",
    "        text = re.sub(r'\\d+', '', text)  # Remove numbers\n",
    "        token_text = self.tokenizer.tokenize(text) \n",
    "        normalised_text = [token.lower() for token in token_text if token.isalpha()]\n",
    "\n",
    "        no_stopwords_text = [token for token in normalised_text if token not in self.stopwords]\n",
    "\n",
    "        # Using lemmatization\n",
    "        processed_text.append([self.lemmatizer.lemmatize(word) for word in no_stopwords_text]) # Applying the lemmatizer\n",
    "\n",
    "      #  Return tokens as a list of words (this ensure compatibility with FastText)\n",
    "      return processed_text"
   ]
  },
  {
   "cell_type": "code",
   "execution_count": 8,
   "metadata": {},
   "outputs": [],
   "source": [
    "from keras.preprocessing.sequence import pad_sequences\n",
    "\n",
    "# The FastText class\n",
    "class FastTextVectorizer(BaseEstimator, TransformerMixin):\n",
    "    def __init__(self, model_path, max_sequence_length, vector_dimension):\n",
    "        self.model_path = model_path\n",
    "        self.max_sequence_length = max_sequence_length\n",
    "        self.vector_dimension = vector_dimension\n",
    "        self.word_vectors = self.load_fasttext_vectors()\n",
    "\n",
    "    def load_fasttext_vectors(self):\n",
    "        # Loading the FastText word vectors from the .vec file\n",
    "        word_vectors = {}\n",
    "        with open(self.model_path, 'r', encoding='utf-8') as f:\n",
    "            for line in f:\n",
    "                parts = line.strip().split()\n",
    "                word = parts[0]\n",
    "                vector = np.array(parts[1:], dtype=np.float32)\n",
    "                word_vectors[word] = vector\n",
    "        return word_vectors\n",
    "\n",
    "    def fit(self, X, y=None):\n",
    "        return self\n",
    "\n",
    "    def transform(self, tokens):\n",
    "        # Convert each tokenized text into a list of word vectors\n",
    "        tokenized_vectors = [\n",
    "            [\n",
    "                self.word_vectors[word] if word in self.word_vectors else np.zeros(self.vector_dimension)\n",
    "                for word in token\n",
    "            ]\n",
    "            for token in tokens\n",
    "        ]\n",
    "\n",
    "        # Reshape data to 3D to make it compatible with the BiLSTM GRU model\n",
    "        # Pad sequences to ensure consistent dimensions: sequence length, vector dim\n",
    "        padded_data = pad_sequences(\n",
    "            [np.array(seq) for seq in tokenized_vectors],\n",
    "            maxlen = self.max_sequence_length,\n",
    "            dtype = 'float32',\n",
    "            padding = 'post',\n",
    "            truncating = 'post',\n",
    "        )\n",
    "\n",
    "        return np.array(padded_data)"
   ]
  },
  {
   "cell_type": "markdown",
   "metadata": {},
   "source": [
    "# III. Algorithms\n",
    "<small>*Section word count: 382 words*</small>\n",
    "\n",
    "## BiLSTM\n",
    "\n",
    "The first model used, Bidirectional Long Short-Term Memory (BiLSTM), is a type of recurrent neural network (RNN) that improves on a unidirectional LSTM (Hochreiter and Schmidhuber, 1997), resulting in better context understanding. \n",
    "\n",
    "An RNN architecture allows the model to have some sort of memory, by preserving information between training loops, and allowing that information to impact the next training not just from the regular feed-forward. This still struggles with preserving information with long inputs, so the unidirectional LSTM was introduced and improved on the memory aspect by using an extra dimension in the form of the input gate, forget gate, and output gate (Siami-Namini, Tavakoli and Namin, 2019).\n",
    "\n",
    "The BiLSTM uses two LSTM models, one traversing the input data from left to right, and another LSTM model going in reverse, from right to left (Islam, 2018). This ends up capturing the context dependencies from the past and future at the same time. "
   ]
  },
  {
   "cell_type": "code",
   "execution_count": 9,
   "metadata": {},
   "outputs": [
    {
     "name": "stdout",
     "output_type": "stream",
     "text": [
      "Below is an example of the pre-processed pipeline output:\n",
      "\tThe original text (as tokens): I rented I AM CURIOUS-YELLOW from my video store because of all the controversy that surrounded it when it was first released in 1967. I also heard that at first it was seized by U.S. customs if it ever tried to enter this country, therefore being a fan of films considered \"controversial\" I really had to see this for myself.<br /><br />The plot is centered around a young Swedish drama student named Lena who wants to learn everything she can about life. In particular she wants to focus her attentions to making some sort of documentary on what the average Swede thought about certain political issues such as the Vietnam War and race issues in the United States. In between asking politicians and ordinary denizens of Stockholm about their opinions on politics, she has sex with her drama teacher, classmates, and married men.<br /><br />What kills me about I AM CURIOUS-YELLOW is that 40 years ago, this was considered pornographic. Really, the sex and nudity scenes are few and far between, even then it's not shot like some cheaply made porno. While my countrymen mind find it shocking, in reality sex and nudity are a major staple in Swedish cinema. Even Ingmar Bergman, arguably their answer to good old boy John Ford, had sex scenes in his films.<br /><br />I do commend the filmmakers for the fact that any sex shown in the film is shown for artistic purposes rather than just to shock people and make money to be shown in pornographic theaters in America. I AM CURIOUS-YELLOW is a good film for anyone wanting to study the meat and potatoes (no pun intended) of Swedish cinema. But really, this film doesn't have much of a plot.\n",
      "\tThe pre-processed text: ['rented', 'curious', 'yellow', 'video', 'store', 'controversy', 'surrounded', 'first', 'released', 'also', 'heard', 'first', 'seized', 'u', 'custom', 'ever', 'tried', 'enter', 'country', 'therefore', 'fan', 'film', 'considered', 'controversial', 'really', 'see', 'br', 'br', 'plot', 'centered', 'around', 'young', 'swedish', 'drama', 'student', 'named', 'lena', 'want', 'learn', 'everything', 'life', 'particular', 'want', 'focus', 'attention', 'making', 'sort', 'documentary', 'average', 'swede', 'thought', 'certain', 'political', 'issue', 'vietnam', 'war', 'race', 'issue', 'united', 'state', 'asking', 'politician', 'ordinary', 'denizen', 'stockholm', 'opinion', 'politics', 'sex', 'drama', 'teacher', 'classmate', 'married', 'men', 'br', 'br', 'kill', 'curious', 'yellow', 'year', 'ago', 'considered', 'pornographic', 'really', 'sex', 'nudity', 'scene', 'far', 'even', 'shot', 'like', 'cheaply', 'made', 'porno', 'countryman', 'mind', 'find', 'shocking', 'reality', 'sex', 'nudity', 'major', 'staple', 'swedish', 'cinema', 'even', 'ingmar', 'bergman', 'arguably', 'answer', 'good', 'old', 'boy', 'john', 'ford', 'sex', 'scene', 'film', 'br', 'br', 'commend', 'filmmaker', 'fact', 'sex', 'shown', 'film', 'shown', 'artistic', 'purpose', 'rather', 'shock', 'people', 'make', 'money', 'shown', 'pornographic', 'theater', 'america', 'curious', 'yellow', 'good', 'film', 'anyone', 'wanting', 'study', 'meat', 'potato', 'pun', 'intended', 'swedish', 'cinema', 'really', 'film', 'much', 'plot']\n"
     ]
    }
   ],
   "source": [
    "# Showcasing the pre processing and vectorization outputs used in the final model training pipelines\n",
    "from sklearn.pipeline import Pipeline # Adding the pipeline functionality\n",
    "\n",
    "# Showcasing the pre-process pipeline output\n",
    "pre_process_pipeline =  Pipeline([\n",
    "  ('prep', pre_process()) # Custom pre-processing method\n",
    "  ])\n",
    "\n",
    "pre_process_example = pre_process_pipeline.fit_transform(imdb_train_df['text'][:1])\n",
    "print(f\"Below is an example of the pre-processed pipeline output:\")\n",
    "print(f\"\\tThe original text (as tokens): {imdb_train_df['text'][0]}\")\n",
    "print(f\"\\tThe pre-processed text: {pre_process_example[0]}\")\n"
   ]
  },
  {
   "cell_type": "code",
   "execution_count": 10,
   "metadata": {},
   "outputs": [
    {
     "name": "stdout",
     "output_type": "stream",
     "text": [
      "Average number of tokens: 124\n",
      "Maximum number of tokens: 1442\n",
      "Minimum number of tokens: 4\n",
      "90th percentile token length: 246\n"
     ]
    }
   ],
   "source": [
    "# Calculate the average tokens per imdb review. \n",
    "# This average will be used for the max sequence length in FastText, to avoid truncating and losing potential semantics information\n",
    "pre_process_example = pre_process_pipeline.fit_transform(imdb_train_df['text'].values)\n",
    "\n",
    "# Calculate token counts for each pre-processed text\n",
    "token_lengths = [len(tokens) for tokens in pre_process_example]\n",
    "\n",
    "# Calculate the statistics\n",
    "average_tokens = sum(token_lengths) / len(token_lengths)\n",
    "max_tokens = max(token_lengths)\n",
    "min_tokens = min(token_lengths)\n",
    "max_seq_len_90th  = int(np.percentile(token_lengths, 90))\n",
    "\n",
    "print(f\"Average number of tokens: {average_tokens:.0f}\")\n",
    "print(f\"Maximum number of tokens: {max_tokens}\")\n",
    "print(f\"Minimum number of tokens: {min_tokens}\")\n",
    "print(f\"90th percentile token length: {max_seq_len_90th}\")"
   ]
  },
  {
   "cell_type": "code",
   "execution_count": 11,
   "metadata": {},
   "outputs": [
    {
     "name": "stdout",
     "output_type": "stream",
     "text": [
      "\tThe 3D reshaped data shape: (1, 250, 300)\n",
      "\tThe 3D reshaped data representation (sample): [[ 0.1991  0.0065 -0.0965 ...  0.1122 -0.0166 -0.1085]\n",
      " [-0.1178 -0.1638  0.0755 ...  0.1817  0.2032  0.2252]\n",
      " [-0.049   0.032   0.024  ... -0.04    0.1997  0.0506]\n",
      " ...\n",
      " [ 0.0092 -0.0123 -0.0336 ...  0.1672 -0.0127  0.0247]\n",
      " [-0.0075 -0.0557 -0.0249 ...  0.0717  0.0584  0.0515]\n",
      " [-0.0764  0.0451 -0.0883 ...  0.1588  0.0052 -0.0104]]\n"
     ]
    }
   ],
   "source": [
    "max_sequence_length = 250 # This is the 90th percentile review token length score (rounded)\n",
    "vector_dimension = 300 # FastText vector dimension\n",
    "\n",
    "# Showcasing the FastText vectorization pipeline output with 3D shaped data\n",
    "fast_text_pipeline = Pipeline([\n",
    "  (\"prep\", pre_process()), # Custom pre-processing method\n",
    "  (\"fast_text_vectorizer\", FastTextVectorizer(\n",
    "    model_path = \"Libraries/FastText/wiki-news-300d-1M.vec\",\n",
    "    max_sequence_length = 250,\n",
    "    vector_dimension = vector_dimension\n",
    "    )), # FastText word to vector dictionary\n",
    "  ])\n",
    "\n",
    "fast_text_pipeline = fast_text_pipeline.fit_transform(imdb_train_df['text'][:1])\n",
    "print(f\"\\tThe 3D reshaped data shape: {fast_text_pipeline.shape}\")\n",
    "print(f\"\\tThe 3D reshaped data representation (sample): {fast_text_pipeline[0][:10]}\")"
   ]
  },
  {
   "cell_type": "code",
   "execution_count": 12,
   "metadata": {},
   "outputs": [],
   "source": [
    "# Adding the model wrapped in a custom Keras model to work with the Pipeline\n",
    "from keras.models import Sequential\n",
    "from keras.layers import Bidirectional, LSTM, GRU, Dense, Dropout\n",
    "from sklearn.base import BaseEstimator, ClassifierMixin\n",
    "from keras import Input\n",
    "\n",
    "class BiLSTM_GRU_Model(BaseEstimator, ClassifierMixin):\n",
    "    def __init__(self, input_shape, num_classes, dropout_rate):\n",
    "        self.input_shape = input_shape\n",
    "        self.num_classes = num_classes\n",
    "        self.dropout_rate = dropout_rate\n",
    "        self.model = self.build_model()\n",
    "    \n",
    "    def build_model(self):\n",
    "        model = Sequential()\n",
    "        model.add(Input(shape=self.input_shape))\n",
    "        model.add(Bidirectional(LSTM(32, return_sequences=True)))\n",
    "        model.add(GRU(16))\n",
    "        model.add(Dropout(self.dropout_rate))\n",
    "        model.add(Dense(self.num_classes, activation='sigmoid'))\n",
    "        model.compile(optimizer='adam', loss='binary_crossentropy', metrics=['accuracy'])\n",
    "        return model\n",
    "    \n",
    "    def fit(self, X, y):\n",
    "        self.model.fit(X, y, epochs=10, batch_size=16, verbose=1) # TODO CHANGE EPOCH TO 10 \n",
    "        return self\n",
    "    \n",
    "    def predict(self, X):\n",
    "        predictions = self.model.predict(X)\n",
    "        return (predictions > 0.5).astype(int)"
   ]
  },
  {
   "cell_type": "code",
   "execution_count": 13,
   "metadata": {},
   "outputs": [
    {
     "name": "stdout",
     "output_type": "stream",
     "text": [
      "X_train length: 25000\n",
      "X_train shape: (25000,)\n",
      "y_train length: 25000\n",
      "y_train shape: (25000,)\n"
     ]
    }
   ],
   "source": [
    "from sklearn.metrics import accuracy_score, classification_report\n",
    "\n",
    "input_shape = (max_sequence_length, vector_dimension)  # Match the reshaped dimensions: max_sequence_length x vector_dimension\n",
    "\n",
    "bilstm_gru_NLP_pipeline = Pipeline([\n",
    "  (\"prep\", pre_process()), # Custom pre-processing method\n",
    "  (\"fast_text_vectorizer\", FastTextVectorizer(\n",
    "    model_path = \"Libraries/FastText/wiki-news-300d-1M.vec\",\n",
    "    max_sequence_length = max_sequence_length,\n",
    "    vector_dimension = vector_dimension\n",
    "    )), # FastText word to vector dictionary\n",
    "    (\"model\", BiLSTM_GRU_Model(input_shape = input_shape, num_classes = 1, dropout_rate = 0.3))  # BiLSTM GRU model\n",
    "  ])\n",
    "\n",
    "X_train = imdb_train_df['text'].values\n",
    "y_train = imdb_train_df['label'].values\n",
    "\n",
    "print(f\"X_train length: {len(X_train)}\")\n",
    "print(f\"X_train shape: {X_train.shape}\")\n",
    "print(f\"y_train length: {len(y_train)}\")\n",
    "print(f\"y_train shape: {y_train.shape}\")"
   ]
  },
  {
   "cell_type": "code",
   "execution_count": 14,
   "metadata": {},
   "outputs": [
    {
     "name": "stdout",
     "output_type": "stream",
     "text": [
      "Epoch 1/10\n",
      "\u001b[1m1563/1563\u001b[0m \u001b[32m━━━━━━━━━━━━━━━━━━━━\u001b[0m\u001b[37m\u001b[0m \u001b[1m67s\u001b[0m 42ms/step - accuracy: 0.5062 - loss: 0.6922\n",
      "Epoch 2/10\n",
      "\u001b[1m1563/1563\u001b[0m \u001b[32m━━━━━━━━━━━━━━━━━━━━\u001b[0m\u001b[37m\u001b[0m \u001b[1m65s\u001b[0m 42ms/step - accuracy: 0.5149 - loss: 0.6859\n",
      "Epoch 3/10\n",
      "\u001b[1m1563/1563\u001b[0m \u001b[32m━━━━━━━━━━━━━━━━━━━━\u001b[0m\u001b[37m\u001b[0m \u001b[1m66s\u001b[0m 42ms/step - accuracy: 0.5388 - loss: 0.6717\n",
      "Epoch 4/10\n",
      "\u001b[1m1563/1563\u001b[0m \u001b[32m━━━━━━━━━━━━━━━━━━━━\u001b[0m\u001b[37m\u001b[0m \u001b[1m65s\u001b[0m 41ms/step - accuracy: 0.8608 - loss: 0.3340\n",
      "Epoch 5/10\n",
      "\u001b[1m1563/1563\u001b[0m \u001b[32m━━━━━━━━━━━━━━━━━━━━\u001b[0m\u001b[37m\u001b[0m \u001b[1m66s\u001b[0m 42ms/step - accuracy: 0.8869 - loss: 0.2818\n",
      "Epoch 6/10\n",
      "\u001b[1m1563/1563\u001b[0m \u001b[32m━━━━━━━━━━━━━━━━━━━━\u001b[0m\u001b[37m\u001b[0m \u001b[1m65s\u001b[0m 42ms/step - accuracy: 0.8927 - loss: 0.2666\n",
      "Epoch 7/10\n",
      "\u001b[1m1563/1563\u001b[0m \u001b[32m━━━━━━━━━━━━━━━━━━━━\u001b[0m\u001b[37m\u001b[0m \u001b[1m66s\u001b[0m 42ms/step - accuracy: 0.9051 - loss: 0.2445\n",
      "Epoch 8/10\n",
      "\u001b[1m1563/1563\u001b[0m \u001b[32m━━━━━━━━━━━━━━━━━━━━\u001b[0m\u001b[37m\u001b[0m \u001b[1m66s\u001b[0m 42ms/step - accuracy: 0.9148 - loss: 0.2193\n",
      "Epoch 9/10\n",
      "\u001b[1m1563/1563\u001b[0m \u001b[32m━━━━━━━━━━━━━━━━━━━━\u001b[0m\u001b[37m\u001b[0m \u001b[1m66s\u001b[0m 42ms/step - accuracy: 0.9301 - loss: 0.1882\n",
      "Epoch 10/10\n",
      "\u001b[1m1563/1563\u001b[0m \u001b[32m━━━━━━━━━━━━━━━━━━━━\u001b[0m\u001b[37m\u001b[0m \u001b[1m66s\u001b[0m 42ms/step - accuracy: 0.9337 - loss: 0.1757\n"
     ]
    },
    {
     "data": {
      "text/html": [
       "<style>#sk-container-id-1 {\n",
       "  /* Definition of color scheme common for light and dark mode */\n",
       "  --sklearn-color-text: black;\n",
       "  --sklearn-color-line: gray;\n",
       "  /* Definition of color scheme for unfitted estimators */\n",
       "  --sklearn-color-unfitted-level-0: #fff5e6;\n",
       "  --sklearn-color-unfitted-level-1: #f6e4d2;\n",
       "  --sklearn-color-unfitted-level-2: #ffe0b3;\n",
       "  --sklearn-color-unfitted-level-3: chocolate;\n",
       "  /* Definition of color scheme for fitted estimators */\n",
       "  --sklearn-color-fitted-level-0: #f0f8ff;\n",
       "  --sklearn-color-fitted-level-1: #d4ebff;\n",
       "  --sklearn-color-fitted-level-2: #b3dbfd;\n",
       "  --sklearn-color-fitted-level-3: cornflowerblue;\n",
       "\n",
       "  /* Specific color for light theme */\n",
       "  --sklearn-color-text-on-default-background: var(--sg-text-color, var(--theme-code-foreground, var(--jp-content-font-color1, black)));\n",
       "  --sklearn-color-background: var(--sg-background-color, var(--theme-background, var(--jp-layout-color0, white)));\n",
       "  --sklearn-color-border-box: var(--sg-text-color, var(--theme-code-foreground, var(--jp-content-font-color1, black)));\n",
       "  --sklearn-color-icon: #696969;\n",
       "\n",
       "  @media (prefers-color-scheme: dark) {\n",
       "    /* Redefinition of color scheme for dark theme */\n",
       "    --sklearn-color-text-on-default-background: var(--sg-text-color, var(--theme-code-foreground, var(--jp-content-font-color1, white)));\n",
       "    --sklearn-color-background: var(--sg-background-color, var(--theme-background, var(--jp-layout-color0, #111)));\n",
       "    --sklearn-color-border-box: var(--sg-text-color, var(--theme-code-foreground, var(--jp-content-font-color1, white)));\n",
       "    --sklearn-color-icon: #878787;\n",
       "  }\n",
       "}\n",
       "\n",
       "#sk-container-id-1 {\n",
       "  color: var(--sklearn-color-text);\n",
       "}\n",
       "\n",
       "#sk-container-id-1 pre {\n",
       "  padding: 0;\n",
       "}\n",
       "\n",
       "#sk-container-id-1 input.sk-hidden--visually {\n",
       "  border: 0;\n",
       "  clip: rect(1px 1px 1px 1px);\n",
       "  clip: rect(1px, 1px, 1px, 1px);\n",
       "  height: 1px;\n",
       "  margin: -1px;\n",
       "  overflow: hidden;\n",
       "  padding: 0;\n",
       "  position: absolute;\n",
       "  width: 1px;\n",
       "}\n",
       "\n",
       "#sk-container-id-1 div.sk-dashed-wrapped {\n",
       "  border: 1px dashed var(--sklearn-color-line);\n",
       "  margin: 0 0.4em 0.5em 0.4em;\n",
       "  box-sizing: border-box;\n",
       "  padding-bottom: 0.4em;\n",
       "  background-color: var(--sklearn-color-background);\n",
       "}\n",
       "\n",
       "#sk-container-id-1 div.sk-container {\n",
       "  /* jupyter's `normalize.less` sets `[hidden] { display: none; }`\n",
       "     but bootstrap.min.css set `[hidden] { display: none !important; }`\n",
       "     so we also need the `!important` here to be able to override the\n",
       "     default hidden behavior on the sphinx rendered scikit-learn.org.\n",
       "     See: https://github.com/scikit-learn/scikit-learn/issues/21755 */\n",
       "  display: inline-block !important;\n",
       "  position: relative;\n",
       "}\n",
       "\n",
       "#sk-container-id-1 div.sk-text-repr-fallback {\n",
       "  display: none;\n",
       "}\n",
       "\n",
       "div.sk-parallel-item,\n",
       "div.sk-serial,\n",
       "div.sk-item {\n",
       "  /* draw centered vertical line to link estimators */\n",
       "  background-image: linear-gradient(var(--sklearn-color-text-on-default-background), var(--sklearn-color-text-on-default-background));\n",
       "  background-size: 2px 100%;\n",
       "  background-repeat: no-repeat;\n",
       "  background-position: center center;\n",
       "}\n",
       "\n",
       "/* Parallel-specific style estimator block */\n",
       "\n",
       "#sk-container-id-1 div.sk-parallel-item::after {\n",
       "  content: \"\";\n",
       "  width: 100%;\n",
       "  border-bottom: 2px solid var(--sklearn-color-text-on-default-background);\n",
       "  flex-grow: 1;\n",
       "}\n",
       "\n",
       "#sk-container-id-1 div.sk-parallel {\n",
       "  display: flex;\n",
       "  align-items: stretch;\n",
       "  justify-content: center;\n",
       "  background-color: var(--sklearn-color-background);\n",
       "  position: relative;\n",
       "}\n",
       "\n",
       "#sk-container-id-1 div.sk-parallel-item {\n",
       "  display: flex;\n",
       "  flex-direction: column;\n",
       "}\n",
       "\n",
       "#sk-container-id-1 div.sk-parallel-item:first-child::after {\n",
       "  align-self: flex-end;\n",
       "  width: 50%;\n",
       "}\n",
       "\n",
       "#sk-container-id-1 div.sk-parallel-item:last-child::after {\n",
       "  align-self: flex-start;\n",
       "  width: 50%;\n",
       "}\n",
       "\n",
       "#sk-container-id-1 div.sk-parallel-item:only-child::after {\n",
       "  width: 0;\n",
       "}\n",
       "\n",
       "/* Serial-specific style estimator block */\n",
       "\n",
       "#sk-container-id-1 div.sk-serial {\n",
       "  display: flex;\n",
       "  flex-direction: column;\n",
       "  align-items: center;\n",
       "  background-color: var(--sklearn-color-background);\n",
       "  padding-right: 1em;\n",
       "  padding-left: 1em;\n",
       "}\n",
       "\n",
       "\n",
       "/* Toggleable style: style used for estimator/Pipeline/ColumnTransformer box that is\n",
       "clickable and can be expanded/collapsed.\n",
       "- Pipeline and ColumnTransformer use this feature and define the default style\n",
       "- Estimators will overwrite some part of the style using the `sk-estimator` class\n",
       "*/\n",
       "\n",
       "/* Pipeline and ColumnTransformer style (default) */\n",
       "\n",
       "#sk-container-id-1 div.sk-toggleable {\n",
       "  /* Default theme specific background. It is overwritten whether we have a\n",
       "  specific estimator or a Pipeline/ColumnTransformer */\n",
       "  background-color: var(--sklearn-color-background);\n",
       "}\n",
       "\n",
       "/* Toggleable label */\n",
       "#sk-container-id-1 label.sk-toggleable__label {\n",
       "  cursor: pointer;\n",
       "  display: block;\n",
       "  width: 100%;\n",
       "  margin-bottom: 0;\n",
       "  padding: 0.5em;\n",
       "  box-sizing: border-box;\n",
       "  text-align: center;\n",
       "}\n",
       "\n",
       "#sk-container-id-1 label.sk-toggleable__label-arrow:before {\n",
       "  /* Arrow on the left of the label */\n",
       "  content: \"▸\";\n",
       "  float: left;\n",
       "  margin-right: 0.25em;\n",
       "  color: var(--sklearn-color-icon);\n",
       "}\n",
       "\n",
       "#sk-container-id-1 label.sk-toggleable__label-arrow:hover:before {\n",
       "  color: var(--sklearn-color-text);\n",
       "}\n",
       "\n",
       "/* Toggleable content - dropdown */\n",
       "\n",
       "#sk-container-id-1 div.sk-toggleable__content {\n",
       "  max-height: 0;\n",
       "  max-width: 0;\n",
       "  overflow: hidden;\n",
       "  text-align: left;\n",
       "  /* unfitted */\n",
       "  background-color: var(--sklearn-color-unfitted-level-0);\n",
       "}\n",
       "\n",
       "#sk-container-id-1 div.sk-toggleable__content.fitted {\n",
       "  /* fitted */\n",
       "  background-color: var(--sklearn-color-fitted-level-0);\n",
       "}\n",
       "\n",
       "#sk-container-id-1 div.sk-toggleable__content pre {\n",
       "  margin: 0.2em;\n",
       "  border-radius: 0.25em;\n",
       "  color: var(--sklearn-color-text);\n",
       "  /* unfitted */\n",
       "  background-color: var(--sklearn-color-unfitted-level-0);\n",
       "}\n",
       "\n",
       "#sk-container-id-1 div.sk-toggleable__content.fitted pre {\n",
       "  /* unfitted */\n",
       "  background-color: var(--sklearn-color-fitted-level-0);\n",
       "}\n",
       "\n",
       "#sk-container-id-1 input.sk-toggleable__control:checked~div.sk-toggleable__content {\n",
       "  /* Expand drop-down */\n",
       "  max-height: 200px;\n",
       "  max-width: 100%;\n",
       "  overflow: auto;\n",
       "}\n",
       "\n",
       "#sk-container-id-1 input.sk-toggleable__control:checked~label.sk-toggleable__label-arrow:before {\n",
       "  content: \"▾\";\n",
       "}\n",
       "\n",
       "/* Pipeline/ColumnTransformer-specific style */\n",
       "\n",
       "#sk-container-id-1 div.sk-label input.sk-toggleable__control:checked~label.sk-toggleable__label {\n",
       "  color: var(--sklearn-color-text);\n",
       "  background-color: var(--sklearn-color-unfitted-level-2);\n",
       "}\n",
       "\n",
       "#sk-container-id-1 div.sk-label.fitted input.sk-toggleable__control:checked~label.sk-toggleable__label {\n",
       "  background-color: var(--sklearn-color-fitted-level-2);\n",
       "}\n",
       "\n",
       "/* Estimator-specific style */\n",
       "\n",
       "/* Colorize estimator box */\n",
       "#sk-container-id-1 div.sk-estimator input.sk-toggleable__control:checked~label.sk-toggleable__label {\n",
       "  /* unfitted */\n",
       "  background-color: var(--sklearn-color-unfitted-level-2);\n",
       "}\n",
       "\n",
       "#sk-container-id-1 div.sk-estimator.fitted input.sk-toggleable__control:checked~label.sk-toggleable__label {\n",
       "  /* fitted */\n",
       "  background-color: var(--sklearn-color-fitted-level-2);\n",
       "}\n",
       "\n",
       "#sk-container-id-1 div.sk-label label.sk-toggleable__label,\n",
       "#sk-container-id-1 div.sk-label label {\n",
       "  /* The background is the default theme color */\n",
       "  color: var(--sklearn-color-text-on-default-background);\n",
       "}\n",
       "\n",
       "/* On hover, darken the color of the background */\n",
       "#sk-container-id-1 div.sk-label:hover label.sk-toggleable__label {\n",
       "  color: var(--sklearn-color-text);\n",
       "  background-color: var(--sklearn-color-unfitted-level-2);\n",
       "}\n",
       "\n",
       "/* Label box, darken color on hover, fitted */\n",
       "#sk-container-id-1 div.sk-label.fitted:hover label.sk-toggleable__label.fitted {\n",
       "  color: var(--sklearn-color-text);\n",
       "  background-color: var(--sklearn-color-fitted-level-2);\n",
       "}\n",
       "\n",
       "/* Estimator label */\n",
       "\n",
       "#sk-container-id-1 div.sk-label label {\n",
       "  font-family: monospace;\n",
       "  font-weight: bold;\n",
       "  display: inline-block;\n",
       "  line-height: 1.2em;\n",
       "}\n",
       "\n",
       "#sk-container-id-1 div.sk-label-container {\n",
       "  text-align: center;\n",
       "}\n",
       "\n",
       "/* Estimator-specific */\n",
       "#sk-container-id-1 div.sk-estimator {\n",
       "  font-family: monospace;\n",
       "  border: 1px dotted var(--sklearn-color-border-box);\n",
       "  border-radius: 0.25em;\n",
       "  box-sizing: border-box;\n",
       "  margin-bottom: 0.5em;\n",
       "  /* unfitted */\n",
       "  background-color: var(--sklearn-color-unfitted-level-0);\n",
       "}\n",
       "\n",
       "#sk-container-id-1 div.sk-estimator.fitted {\n",
       "  /* fitted */\n",
       "  background-color: var(--sklearn-color-fitted-level-0);\n",
       "}\n",
       "\n",
       "/* on hover */\n",
       "#sk-container-id-1 div.sk-estimator:hover {\n",
       "  /* unfitted */\n",
       "  background-color: var(--sklearn-color-unfitted-level-2);\n",
       "}\n",
       "\n",
       "#sk-container-id-1 div.sk-estimator.fitted:hover {\n",
       "  /* fitted */\n",
       "  background-color: var(--sklearn-color-fitted-level-2);\n",
       "}\n",
       "\n",
       "/* Specification for estimator info (e.g. \"i\" and \"?\") */\n",
       "\n",
       "/* Common style for \"i\" and \"?\" */\n",
       "\n",
       ".sk-estimator-doc-link,\n",
       "a:link.sk-estimator-doc-link,\n",
       "a:visited.sk-estimator-doc-link {\n",
       "  float: right;\n",
       "  font-size: smaller;\n",
       "  line-height: 1em;\n",
       "  font-family: monospace;\n",
       "  background-color: var(--sklearn-color-background);\n",
       "  border-radius: 1em;\n",
       "  height: 1em;\n",
       "  width: 1em;\n",
       "  text-decoration: none !important;\n",
       "  margin-left: 1ex;\n",
       "  /* unfitted */\n",
       "  border: var(--sklearn-color-unfitted-level-1) 1pt solid;\n",
       "  color: var(--sklearn-color-unfitted-level-1);\n",
       "}\n",
       "\n",
       ".sk-estimator-doc-link.fitted,\n",
       "a:link.sk-estimator-doc-link.fitted,\n",
       "a:visited.sk-estimator-doc-link.fitted {\n",
       "  /* fitted */\n",
       "  border: var(--sklearn-color-fitted-level-1) 1pt solid;\n",
       "  color: var(--sklearn-color-fitted-level-1);\n",
       "}\n",
       "\n",
       "/* On hover */\n",
       "div.sk-estimator:hover .sk-estimator-doc-link:hover,\n",
       ".sk-estimator-doc-link:hover,\n",
       "div.sk-label-container:hover .sk-estimator-doc-link:hover,\n",
       ".sk-estimator-doc-link:hover {\n",
       "  /* unfitted */\n",
       "  background-color: var(--sklearn-color-unfitted-level-3);\n",
       "  color: var(--sklearn-color-background);\n",
       "  text-decoration: none;\n",
       "}\n",
       "\n",
       "div.sk-estimator.fitted:hover .sk-estimator-doc-link.fitted:hover,\n",
       ".sk-estimator-doc-link.fitted:hover,\n",
       "div.sk-label-container:hover .sk-estimator-doc-link.fitted:hover,\n",
       ".sk-estimator-doc-link.fitted:hover {\n",
       "  /* fitted */\n",
       "  background-color: var(--sklearn-color-fitted-level-3);\n",
       "  color: var(--sklearn-color-background);\n",
       "  text-decoration: none;\n",
       "}\n",
       "\n",
       "/* Span, style for the box shown on hovering the info icon */\n",
       ".sk-estimator-doc-link span {\n",
       "  display: none;\n",
       "  z-index: 9999;\n",
       "  position: relative;\n",
       "  font-weight: normal;\n",
       "  right: .2ex;\n",
       "  padding: .5ex;\n",
       "  margin: .5ex;\n",
       "  width: min-content;\n",
       "  min-width: 20ex;\n",
       "  max-width: 50ex;\n",
       "  color: var(--sklearn-color-text);\n",
       "  box-shadow: 2pt 2pt 4pt #999;\n",
       "  /* unfitted */\n",
       "  background: var(--sklearn-color-unfitted-level-0);\n",
       "  border: .5pt solid var(--sklearn-color-unfitted-level-3);\n",
       "}\n",
       "\n",
       ".sk-estimator-doc-link.fitted span {\n",
       "  /* fitted */\n",
       "  background: var(--sklearn-color-fitted-level-0);\n",
       "  border: var(--sklearn-color-fitted-level-3);\n",
       "}\n",
       "\n",
       ".sk-estimator-doc-link:hover span {\n",
       "  display: block;\n",
       "}\n",
       "\n",
       "/* \"?\"-specific style due to the `<a>` HTML tag */\n",
       "\n",
       "#sk-container-id-1 a.estimator_doc_link {\n",
       "  float: right;\n",
       "  font-size: 1rem;\n",
       "  line-height: 1em;\n",
       "  font-family: monospace;\n",
       "  background-color: var(--sklearn-color-background);\n",
       "  border-radius: 1rem;\n",
       "  height: 1rem;\n",
       "  width: 1rem;\n",
       "  text-decoration: none;\n",
       "  /* unfitted */\n",
       "  color: var(--sklearn-color-unfitted-level-1);\n",
       "  border: var(--sklearn-color-unfitted-level-1) 1pt solid;\n",
       "}\n",
       "\n",
       "#sk-container-id-1 a.estimator_doc_link.fitted {\n",
       "  /* fitted */\n",
       "  border: var(--sklearn-color-fitted-level-1) 1pt solid;\n",
       "  color: var(--sklearn-color-fitted-level-1);\n",
       "}\n",
       "\n",
       "/* On hover */\n",
       "#sk-container-id-1 a.estimator_doc_link:hover {\n",
       "  /* unfitted */\n",
       "  background-color: var(--sklearn-color-unfitted-level-3);\n",
       "  color: var(--sklearn-color-background);\n",
       "  text-decoration: none;\n",
       "}\n",
       "\n",
       "#sk-container-id-1 a.estimator_doc_link.fitted:hover {\n",
       "  /* fitted */\n",
       "  background-color: var(--sklearn-color-fitted-level-3);\n",
       "}\n",
       "</style><div id=\"sk-container-id-1\" class=\"sk-top-container\"><div class=\"sk-text-repr-fallback\"><pre>Pipeline(steps=[(&#x27;prep&#x27;, pre_process()),\n",
       "                (&#x27;fast_text_vectorizer&#x27;,\n",
       "                 FastTextVectorizer(max_sequence_length=250,\n",
       "                                    model_path=&#x27;Libraries/FastText/wiki-news-300d-1M.vec&#x27;,\n",
       "                                    vector_dimension=300)),\n",
       "                (&#x27;model&#x27;,\n",
       "                 BiLSTM_GRU_Model(dropout_rate=0.3, input_shape=(250, 300),\n",
       "                                  num_classes=1))])</pre><b>In a Jupyter environment, please rerun this cell to show the HTML representation or trust the notebook. <br />On GitHub, the HTML representation is unable to render, please try loading this page with nbviewer.org.</b></div><div class=\"sk-container\" hidden><div class=\"sk-item sk-dashed-wrapped\"><div class=\"sk-label-container\"><div class=\"sk-label  sk-toggleable\"><input class=\"sk-toggleable__control sk-hidden--visually\" id=\"sk-estimator-id-1\" type=\"checkbox\" ><label for=\"sk-estimator-id-1\" class=\"sk-toggleable__label  sk-toggleable__label-arrow \">&nbsp;&nbsp;Pipeline<a class=\"sk-estimator-doc-link \" rel=\"noreferrer\" target=\"_blank\" href=\"https://scikit-learn.org/1.5/modules/generated/sklearn.pipeline.Pipeline.html\">?<span>Documentation for Pipeline</span></a><span class=\"sk-estimator-doc-link \">i<span>Not fitted</span></span></label><div class=\"sk-toggleable__content \"><pre>Pipeline(steps=[(&#x27;prep&#x27;, pre_process()),\n",
       "                (&#x27;fast_text_vectorizer&#x27;,\n",
       "                 FastTextVectorizer(max_sequence_length=250,\n",
       "                                    model_path=&#x27;Libraries/FastText/wiki-news-300d-1M.vec&#x27;,\n",
       "                                    vector_dimension=300)),\n",
       "                (&#x27;model&#x27;,\n",
       "                 BiLSTM_GRU_Model(dropout_rate=0.3, input_shape=(250, 300),\n",
       "                                  num_classes=1))])</pre></div> </div></div><div class=\"sk-serial\"><div class=\"sk-item\"><div class=\"sk-estimator  sk-toggleable\"><input class=\"sk-toggleable__control sk-hidden--visually\" id=\"sk-estimator-id-2\" type=\"checkbox\" ><label for=\"sk-estimator-id-2\" class=\"sk-toggleable__label  sk-toggleable__label-arrow \">pre_process</label><div class=\"sk-toggleable__content \"><pre>pre_process()</pre></div> </div></div><div class=\"sk-item\"><div class=\"sk-estimator  sk-toggleable\"><input class=\"sk-toggleable__control sk-hidden--visually\" id=\"sk-estimator-id-3\" type=\"checkbox\" ><label for=\"sk-estimator-id-3\" class=\"sk-toggleable__label  sk-toggleable__label-arrow \">FastTextVectorizer</label><div class=\"sk-toggleable__content \"><pre>FastTextVectorizer(max_sequence_length=250,\n",
       "                   model_path=&#x27;Libraries/FastText/wiki-news-300d-1M.vec&#x27;,\n",
       "                   vector_dimension=300)</pre></div> </div></div><div class=\"sk-item\"><div class=\"sk-estimator  sk-toggleable\"><input class=\"sk-toggleable__control sk-hidden--visually\" id=\"sk-estimator-id-4\" type=\"checkbox\" ><label for=\"sk-estimator-id-4\" class=\"sk-toggleable__label  sk-toggleable__label-arrow \">BiLSTM_GRU_Model</label><div class=\"sk-toggleable__content \"><pre>BiLSTM_GRU_Model(dropout_rate=0.3, input_shape=(250, 300), num_classes=1)</pre></div> </div></div></div></div></div></div>"
      ],
      "text/plain": [
       "Pipeline(steps=[('prep', pre_process()),\n",
       "                ('fast_text_vectorizer',\n",
       "                 FastTextVectorizer(max_sequence_length=250,\n",
       "                                    model_path='Libraries/FastText/wiki-news-300d-1M.vec',\n",
       "                                    vector_dimension=300)),\n",
       "                ('model',\n",
       "                 BiLSTM_GRU_Model(dropout_rate=0.3, input_shape=(250, 300),\n",
       "                                  num_classes=1))])"
      ]
     },
     "execution_count": 14,
     "metadata": {},
     "output_type": "execute_result"
    }
   ],
   "source": [
    "# Fit the BiLSTM pipeline\n",
    "bilstm_gru_NLP_pipeline.fit(X_train, y_train)"
   ]
  },
  {
   "cell_type": "markdown",
   "metadata": {},
   "source": [
    "## ELECTRA\n",
    "\n",
    "The second model used, Efficiently Learning an Encoder that Classifies Token Replacements Accurately (ELECTRA), is a pre-trained model that improves on the popular Masked Language Modelling (MLM) technique used by BERT (Clark et al., 2020). Instead of BERT's method, of masking certain tokens and training a model to predict what the original tokens would have been, ELECTRA uses a technique inspired by Generative Adversarial Networks (GAN). These models are not in direct competition like GAN, since they are trained sequentially, and only the discriminator is retained for downstream tasks. The generator model will replace certain real tokens with tokens that would be probable in that context, and the discriminative model will attempt to identify which are the replaced tokens and which are the original from that given input. This approach outperforms other MLM methods such as BERT because the model utilizes the entire input during training, not just the smaller subset of masked tokens. \n",
    "\n",
    "The general ELECTRA model trained on a large vocabulary that includes Wikipedia, BooksCorpus, and other web-based datasets like CommonCrawl, can be further fine-tuned by training it on the dataset that predictions will be made on, adding this way even more domain knowledge to the model. There are many considerations for this last step of getting a custom ELECTRA model, as choosing the wrong training parameters, like training epochs, learning rate, warmup steps, and weight decay, can result in a model that overfits the data and doesn't generalize too well. "
   ]
  },
  {
   "cell_type": "code",
   "execution_count": 16,
   "metadata": {},
   "outputs": [
    {
     "name": "stdout",
     "output_type": "stream",
     "text": [
      "WARNING:tensorflow:From c:\\Users\\Tiberiu\\AppData\\Local\\Programs\\Python\\Python312\\Lib\\site-packages\\tf_keras\\src\\losses.py:2976: The name tf.losses.sparse_softmax_cross_entropy is deprecated. Please use tf.compat.v1.losses.sparse_softmax_cross_entropy instead.\n",
      "\n"
     ]
    }
   ],
   "source": [
    "import pandas as pd\n",
    "from datasets import Dataset\n",
    "from transformers import ElectraTokenizer, ElectraForSequenceClassification, TrainingArguments, Trainer\n",
    "import warnings\n",
    "\n",
    "# Supressing some tf-keras deprecated warnings that I do not directly call myself (tf-keras was installed for backward compatibility)\n",
    "warnings.filterwarnings('ignore', message=\".*tf.losses.sparse_softmax_cross_entropy.*\")\n",
    "warnings.filterwarnings('ignore', message=\".*TqdmWarning.*\")\n",
    "\n",
    "# Transforming into HuggingFace Dataset objects\n",
    "imdb_train_hf = Dataset.from_pandas(imdb_train_df[['text', 'label']])\n",
    "imdb_test_hf = Dataset.from_pandas(imdb_test_df[['text', 'label']])\n",
    "\n",
    "# Loading the Electra tokeniser to use for the Electra model\n",
    "electra_tokenizer = ElectraTokenizer.from_pretrained('google/electra-small-discriminator', do_lower_case = True)"
   ]
  },
  {
   "cell_type": "code",
   "execution_count": 17,
   "metadata": {},
   "outputs": [],
   "source": [
    "# Electra tokenising function\n",
    "def electra_tokenize_function(data):\n",
    "    return electra_tokenizer(data['text'], padding = \"max_length\", truncation = True, return_attention_mask = True, max_length = 512)"
   ]
  },
  {
   "cell_type": "code",
   "execution_count": 18,
   "metadata": {},
   "outputs": [
    {
     "name": "stderr",
     "output_type": "stream",
     "text": [
      "Parameter 'function'=<function electra_tokenize_function at 0x000001EBDDEE2020> of the transform datasets.arrow_dataset.Dataset._map_single couldn't be hashed properly, a random hash was used instead. Make sure your transforms and parameters are serializable with pickle or dill for the dataset fingerprinting and caching to work. If you reuse this transform, the caching mechanism will consider it to be different from the previous calls and recompute everything. This warning is only showed once. Subsequent hashing failures won't be showed.\n"
     ]
    },
    {
     "data": {
      "application/vnd.jupyter.widget-view+json": {
       "model_id": "acb6c28762e44dddb64f5241aa3c14d5",
       "version_major": 2,
       "version_minor": 0
      },
      "text/plain": [
       "Map:   0%|          | 0/25000 [00:00<?, ? examples/s]"
      ]
     },
     "metadata": {},
     "output_type": "display_data"
    },
    {
     "data": {
      "application/vnd.jupyter.widget-view+json": {
       "model_id": "31c863ab96514839b6e160a9ed77f7aa",
       "version_major": 2,
       "version_minor": 0
      },
      "text/plain": [
       "Map:   0%|          | 0/25000 [00:00<?, ? examples/s]"
      ]
     },
     "metadata": {},
     "output_type": "display_data"
    }
   ],
   "source": [
    "# Tokenising the dataset\n",
    "imdb_train_hf = imdb_train_hf.map(electra_tokenize_function, batched = True)\n",
    "imdb_test_hf = imdb_test_hf.map(electra_tokenize_function, batched = True)"
   ]
  },
  {
   "cell_type": "code",
   "execution_count": 19,
   "metadata": {},
   "outputs": [
    {
     "name": "stderr",
     "output_type": "stream",
     "text": [
      "Some weights of ElectraForSequenceClassification were not initialized from the model checkpoint at google/electra-small-discriminator and are newly initialized: ['classifier.dense.bias', 'classifier.dense.weight', 'classifier.out_proj.bias', 'classifier.out_proj.weight']\n",
      "You should probably TRAIN this model on a down-stream task to be able to use it for predictions and inference.\n"
     ]
    }
   ],
   "source": [
    "# Loading the Electra model and setting the training parameters\n",
    "electra_model = ElectraForSequenceClassification.from_pretrained('google/electra-small-discriminator', num_labels=2)\n",
    "\n",
    "electra_training_arguments = TrainingArguments(\n",
    "    output_dir = './results',  \n",
    "    eval_strategy = \"epoch\", \n",
    "    learning_rate = 2e-5,  \n",
    "    per_device_train_batch_size = 32, # Making the model use the GPU for training\n",
    "    per_device_eval_batch_size = 32, \n",
    "    num_train_epochs = 7,\n",
    "    weight_decay = 0.01, \n",
    "    warmup_steps = 200,\n",
    "    logging_dir = './logs',\n",
    "    logging_steps = 500,\n",
    "    save_steps = 500,\n",
    "    do_train = True,\n",
    "    do_eval = True,\n",
    "    fp16 = True\n",
    ")\n",
    "\n",
    "electra_trainer = Trainer(\n",
    "    model = electra_model,\n",
    "    args = electra_training_arguments,\n",
    "    train_dataset = imdb_train_hf,\n",
    "    eval_dataset = imdb_test_hf,\n",
    "    processing_class = electra_tokenizer\n",
    ")"
   ]
  },
  {
   "cell_type": "code",
   "execution_count": 20,
   "metadata": {},
   "outputs": [
    {
     "name": "stdout",
     "output_type": "stream",
     "text": [
      "Is CUDA available: True\n",
      "GPU Device Name: NVIDIA GeForce RTX 3080\n"
     ]
    }
   ],
   "source": [
    "import torch \n",
    "\n",
    "# Making sure the script recognizes the GPU, to ensure the model is in fact training on it\n",
    "print(\"Is CUDA available:\", torch.cuda.is_available())\n",
    "if torch.cuda.is_available():\n",
    "    print(\"GPU Device Name:\", torch.cuda.get_device_name(0))"
   ]
  },
  {
   "cell_type": "code",
   "execution_count": 21,
   "metadata": {},
   "outputs": [
    {
     "data": {
      "application/vnd.jupyter.widget-view+json": {
       "model_id": "6e5a173f6f514446846928ff197cb5ba",
       "version_major": 2,
       "version_minor": 0
      },
      "text/plain": [
       "  0%|          | 0/5474 [00:00<?, ?it/s]"
      ]
     },
     "metadata": {},
     "output_type": "display_data"
    },
    {
     "name": "stdout",
     "output_type": "stream",
     "text": [
      "{'loss': 0.4678, 'grad_norm': 8.288431167602539, 'learning_rate': 1.8862343572241183e-05, 'epoch': 0.64}\n"
     ]
    },
    {
     "data": {
      "application/vnd.jupyter.widget-view+json": {
       "model_id": "4b6fdc8d628d41498b58eff828e94888",
       "version_major": 2,
       "version_minor": 0
      },
      "text/plain": [
       "  0%|          | 0/782 [00:00<?, ?it/s]"
      ]
     },
     "metadata": {},
     "output_type": "display_data"
    },
    {
     "name": "stdout",
     "output_type": "stream",
     "text": [
      "{'eval_loss': 0.23188482224941254, 'eval_runtime': 37.3465, 'eval_samples_per_second': 669.407, 'eval_steps_per_second': 20.939, 'epoch': 1.0}\n",
      "{'loss': 0.2462, 'grad_norm': 5.711833953857422, 'learning_rate': 1.696624952597649e-05, 'epoch': 1.28}\n",
      "{'loss': 0.2104, 'grad_norm': 4.686920642852783, 'learning_rate': 1.5073947667804325e-05, 'epoch': 1.92}\n"
     ]
    },
    {
     "data": {
      "application/vnd.jupyter.widget-view+json": {
       "model_id": "2655b7d214b4412ab08ec0624d584b92",
       "version_major": 2,
       "version_minor": 0
      },
      "text/plain": [
       "  0%|          | 0/782 [00:00<?, ?it/s]"
      ]
     },
     "metadata": {},
     "output_type": "display_data"
    },
    {
     "name": "stdout",
     "output_type": "stream",
     "text": [
      "{'eval_loss': 0.21067512035369873, 'eval_runtime': 37.4424, 'eval_samples_per_second': 667.693, 'eval_steps_per_second': 20.885, 'epoch': 2.0}\n",
      "{'loss': 0.1781, 'grad_norm': 4.711156368255615, 'learning_rate': 1.3177853621539628e-05, 'epoch': 2.56}\n"
     ]
    },
    {
     "data": {
      "application/vnd.jupyter.widget-view+json": {
       "model_id": "efb3dc493d654eb492057154c8b3c2ae",
       "version_major": 2,
       "version_minor": 0
      },
      "text/plain": [
       "  0%|          | 0/782 [00:00<?, ?it/s]"
      ]
     },
     "metadata": {},
     "output_type": "display_data"
    },
    {
     "name": "stdout",
     "output_type": "stream",
     "text": [
      "{'eval_loss': 0.21273843944072723, 'eval_runtime': 36.4227, 'eval_samples_per_second': 686.385, 'eval_steps_per_second': 21.47, 'epoch': 3.0}\n",
      "{'loss': 0.1637, 'grad_norm': 13.882631301879883, 'learning_rate': 1.1281759575274936e-05, 'epoch': 3.2}\n",
      "{'loss': 0.1468, 'grad_norm': 11.285881996154785, 'learning_rate': 9.38566552901024e-06, 'epoch': 3.84}\n"
     ]
    },
    {
     "data": {
      "application/vnd.jupyter.widget-view+json": {
       "model_id": "6476114be6ec4a3887082725041957ce",
       "version_major": 2,
       "version_minor": 0
      },
      "text/plain": [
       "  0%|          | 0/782 [00:00<?, ?it/s]"
      ]
     },
     "metadata": {},
     "output_type": "display_data"
    },
    {
     "name": "stdout",
     "output_type": "stream",
     "text": [
      "{'eval_loss': 0.23537173867225647, 'eval_runtime': 35.9965, 'eval_samples_per_second': 694.513, 'eval_steps_per_second': 21.724, 'epoch': 4.0}\n",
      "{'loss': 0.1207, 'grad_norm': 9.9799165725708, 'learning_rate': 7.4933636708380746e-06, 'epoch': 4.48}\n"
     ]
    },
    {
     "data": {
      "application/vnd.jupyter.widget-view+json": {
       "model_id": "fa833cf6ecdd4600b19799f907aa15af",
       "version_major": 2,
       "version_minor": 0
      },
      "text/plain": [
       "  0%|          | 0/782 [00:00<?, ?it/s]"
      ]
     },
     "metadata": {},
     "output_type": "display_data"
    },
    {
     "name": "stdout",
     "output_type": "stream",
     "text": [
      "{'eval_loss': 0.2615674138069153, 'eval_runtime': 36.081, 'eval_samples_per_second': 692.886, 'eval_steps_per_second': 21.673, 'epoch': 5.0}\n",
      "{'loss': 0.1221, 'grad_norm': 0.2988223731517792, 'learning_rate': 5.597269624573379e-06, 'epoch': 5.12}\n",
      "{'loss': 0.105, 'grad_norm': 2.228545904159546, 'learning_rate': 3.7011755783086846e-06, 'epoch': 5.75}\n"
     ]
    },
    {
     "data": {
      "application/vnd.jupyter.widget-view+json": {
       "model_id": "f4b9e008e3104794935cae11ee300bf6",
       "version_major": 2,
       "version_minor": 0
      },
      "text/plain": [
       "  0%|          | 0/782 [00:00<?, ?it/s]"
      ]
     },
     "metadata": {},
     "output_type": "display_data"
    },
    {
     "name": "stdout",
     "output_type": "stream",
     "text": [
      "{'eval_loss': 0.26588860154151917, 'eval_runtime': 36.2808, 'eval_samples_per_second': 689.07, 'eval_steps_per_second': 21.554, 'epoch': 6.0}\n",
      "{'loss': 0.0994, 'grad_norm': 2.7217509746551514, 'learning_rate': 1.8050815320439896e-06, 'epoch': 6.39}\n"
     ]
    },
    {
     "data": {
      "application/vnd.jupyter.widget-view+json": {
       "model_id": "04041e64c6f042a286a0f33d52b55175",
       "version_major": 2,
       "version_minor": 0
      },
      "text/plain": [
       "  0%|          | 0/782 [00:00<?, ?it/s]"
      ]
     },
     "metadata": {},
     "output_type": "display_data"
    },
    {
     "name": "stdout",
     "output_type": "stream",
     "text": [
      "{'eval_loss': 0.26993894577026367, 'eval_runtime': 36.7573, 'eval_samples_per_second': 680.137, 'eval_steps_per_second': 21.275, 'epoch': 7.0}\n",
      "{'train_runtime': 935.6649, 'train_samples_per_second': 187.033, 'train_steps_per_second': 5.85, 'train_loss': 0.1778369941195738, 'epoch': 7.0}\n"
     ]
    },
    {
     "data": {
      "text/plain": [
       "TrainOutput(global_step=5474, training_loss=0.1778369941195738, metrics={'train_runtime': 935.6649, 'train_samples_per_second': 187.033, 'train_steps_per_second': 5.85, 'total_flos': 5148437145600000.0, 'train_loss': 0.1778369941195738, 'epoch': 7.0})"
      ]
     },
     "execution_count": 21,
     "metadata": {},
     "output_type": "execute_result"
    }
   ],
   "source": [
    "# Train the Electra model to fine tune it to the IMDB dataset\n",
    "# NOTE FOR MARKING PURPOSES: Below this code block there will be code that will load the trained model already.\n",
    "# Retraining the model will probably take a long time if a dedicated GPU is not used.\n",
    "electra_trainer.train()"
   ]
  },
  {
   "cell_type": "code",
   "execution_count": 22,
   "metadata": {},
   "outputs": [
    {
     "data": {
      "text/plain": [
       "('./electra_custom_trained_model\\\\tokenizer_config.json',\n",
       " './electra_custom_trained_model\\\\special_tokens_map.json',\n",
       " './electra_custom_trained_model\\\\vocab.txt',\n",
       " './electra_custom_trained_model\\\\added_tokens.json')"
      ]
     },
     "execution_count": 22,
     "metadata": {},
     "output_type": "execute_result"
    }
   ],
   "source": [
    "# Saving the Electra model\n",
    "# NOTE FOR MARKING PURPOSES: Running this code block without training the Electra model first\n",
    "# will overwrite the actual model, resulting in inconsitent predictions. \n",
    "# Please run just the following code block that loads the trained Electra model, if \n",
    "# you don't have the time/hardware/patience to train the model again.\n",
    "electra_model.save_pretrained('./electra_custom_trained_model')\n",
    "electra_tokenizer.save_pretrained('./electra_custom_trained_model')"
   ]
  },
  {
   "cell_type": "code",
   "execution_count": 23,
   "metadata": {},
   "outputs": [],
   "source": [
    "# Loading the custom Electra model and tokenizer\n",
    "electra_custom_model = ElectraForSequenceClassification.from_pretrained('./electra_custom_trained_model')\n",
    "electra_custom_tokenizer = ElectraTokenizer.from_pretrained('./electra_custom_trained_model')\n",
    "\n",
    "# Create a new Trainer instance with the custom model\n",
    "custom_electra_trainer = Trainer(\n",
    "    model = electra_custom_model,\n",
    "    processing_class = electra_custom_tokenizer,\n",
    "    args = electra_training_arguments,\n",
    "    eval_dataset = imdb_test_hf\n",
    ")"
   ]
  },
  {
   "cell_type": "markdown",
   "metadata": {},
   "source": [
    "\n",
    "# IV. Evaluation\n",
    "<small>*Section word count: 128 words*</small>"
   ]
  },
  {
   "cell_type": "code",
   "execution_count": 24,
   "metadata": {},
   "outputs": [
    {
     "name": "stdout",
     "output_type": "stream",
     "text": [
      "\u001b[1m782/782\u001b[0m \u001b[32m━━━━━━━━━━━━━━━━━━━━\u001b[0m\u001b[37m\u001b[0m \u001b[1m12s\u001b[0m 15ms/step\n",
      "BiLSTM model accuracy on the test dataset: 88.48%\n",
      "\n",
      "BiLSTM classification Report:\n",
      "              precision    recall  f1-score   support\n",
      "\n",
      "    Negative       0.90      0.86      0.88     12500\n",
      "    Positive       0.87      0.91      0.89     12500\n",
      "\n",
      "    accuracy                           0.88     25000\n",
      "   macro avg       0.89      0.88      0.88     25000\n",
      "weighted avg       0.89      0.88      0.88     25000\n",
      "\n"
     ]
    }
   ],
   "source": [
    "# Using the BiLSTM pipeline to make the predictions\n",
    "X_test = imdb_test_df['text'].values\n",
    "y_test = imdb_test_df['label'].values\n",
    "bilstm_y_pred = bilstm_gru_NLP_pipeline.predict(X_test)\n",
    "\n",
    "# Comparing the predictions with the actual values for BiLSTM\n",
    "bilstm_accuracy = accuracy_score(y_test, bilstm_y_pred)\n",
    "print(f\"BiLSTM model accuracy on the test dataset: {bilstm_accuracy * 100:.2f}%\")\n",
    "print(\"\\nBiLSTM classification Report:\")\n",
    "print(classification_report(y_test, bilstm_y_pred, target_names = ['Negative', 'Positive']))"
   ]
  },
  {
   "cell_type": "code",
   "execution_count": 25,
   "metadata": {},
   "outputs": [
    {
     "data": {
      "application/vnd.jupyter.widget-view+json": {
       "model_id": "f94ebf59b1b345a4b823699183d5bc17",
       "version_major": 2,
       "version_minor": 0
      },
      "text/plain": [
       "  0%|          | 0/782 [00:00<?, ?it/s]"
      ]
     },
     "metadata": {},
     "output_type": "display_data"
    },
    {
     "name": "stdout",
     "output_type": "stream",
     "text": [
      "ELECTRA evaluation results: {'eval_loss': 0.26993894577026367, 'eval_model_preparation_time': 0.0015, 'eval_runtime': 36.4006, 'eval_samples_per_second': 686.803, 'eval_steps_per_second': 21.483}\n"
     ]
    }
   ],
   "source": [
    "# Evaluate the Electra model on the test dataset\n",
    "electra_results = custom_electra_trainer.evaluate()\n",
    "print(\"ELECTRA evaluation results:\", electra_results)"
   ]
  },
  {
   "cell_type": "code",
   "execution_count": 26,
   "metadata": {},
   "outputs": [
    {
     "data": {
      "application/vnd.jupyter.widget-view+json": {
       "model_id": "ee2fe0fb78e34da69fc02c28e9ed45f3",
       "version_major": 2,
       "version_minor": 0
      },
      "text/plain": [
       "  0%|          | 0/782 [00:00<?, ?it/s]"
      ]
     },
     "metadata": {},
     "output_type": "display_data"
    },
    {
     "name": "stdout",
     "output_type": "stream",
     "text": [
      "Custom ELECTRA model accuracy on the test dataset: 92.70%\n",
      "\n",
      "ELECTRA classification Report:\n",
      "               precision    recall  f1-score   support\n",
      "\n",
      "    Negative       0.94      0.91      0.93     12500\n",
      "    Positive       0.91      0.94      0.93     12500\n",
      "\n",
      "    accuracy                           0.93     25000\n",
      "   macro avg       0.93      0.93      0.93     25000\n",
      "weighted avg       0.93      0.93      0.93     25000\n",
      "\n"
     ]
    }
   ],
   "source": [
    "# Generating the Electra predictions on the test dataset\n",
    "def predict_with_trainer(trainer, dataset):\n",
    "    predictions = trainer.predict(dataset)\n",
    "    preds = predictions.predictions.argmax(axis=1)\n",
    "    return preds, predictions.label_ids\n",
    "\n",
    "electra_predictions, labels = predict_with_trainer(custom_electra_trainer, imdb_test_hf)\n",
    "\n",
    "# Showing the model accuracy\n",
    "electra_accuracy = accuracy_score(labels, electra_predictions)\n",
    "print(f\"Custom ELECTRA model accuracy on the test dataset: {electra_accuracy * 100:.2f}%\")\n",
    "\n",
    "# Showing the classification report\n",
    "electra_report = classification_report(labels, electra_predictions, target_names=['Negative', 'Positive'])\n",
    "print(\"\\nELECTRA classification Report:\\n\", electra_report)"
   ]
  },
  {
   "cell_type": "code",
   "execution_count": 27,
   "metadata": {},
   "outputs": [
    {
     "data": {
      "image/png": "[encoded data removed]",
      "text/plain": [
       "<Figure size 1200x600 with 4 Axes>"
      ]
     },
     "metadata": {},
     "output_type": "display_data"
    }
   ],
   "source": [
    "from sklearn.metrics import ConfusionMatrixDisplay\n",
    "import matplotlib.pyplot as plt\n",
    "\n",
    "# Plot confusion matrices for both models in a single figure\n",
    "fig, axes = plt.subplots(1, 2, figsize = (12, 6))\n",
    "ConfusionMatrixDisplay.from_predictions(y_test, bilstm_y_pred, ax = axes[0], cmap = 'Purples')\n",
    "axes[0].set_title(\"BiLSTM Confusion Matrix\")\n",
    "ConfusionMatrixDisplay.from_predictions(labels, electra_predictions, ax = axes[1], cmap = 'Oranges')\n",
    "axes[1].set_title(\"ELECTRA Confusion Matrix\")\n",
    "plt.tight_layout()\n",
    "plt.show()\n"
   ]
  },
  {
   "cell_type": "code",
   "execution_count": 28,
   "metadata": {},
   "outputs": [
    {
     "data": {
      "image/png": "[encoded data removed]",
      "text/plain": [
       "<Figure size 800x500 with 1 Axes>"
      ]
     },
     "metadata": {},
     "output_type": "display_data"
    },
    {
     "name": "stdout",
     "output_type": "stream",
     "text": [
      "The Electra model is 4.22% more accurate than the BiLSTM model.\n"
     ]
    }
   ],
   "source": [
    "from matplotlib.cm import get_cmap\n",
    "\n",
    "# Accuracy values for both models\n",
    "models = ['BiLSTM', 'ELECTRA']\n",
    "accuracies = [bilstm_accuracy * 100, electra_accuracy * 100]\n",
    "\n",
    "# Getting the same confusion matrix colours\n",
    "bilstm_color = plt.get_cmap('Purples')(1.0)\n",
    "electra_color = plt.get_cmap('Oranges')(1.0)\n",
    "\n",
    "plt.figure(figsize = (8, 5))\n",
    "plt.bar(models, accuracies, color = [bilstm_color, electra_color])\n",
    "plt.xlabel('Models')\n",
    "plt.ylabel('Accuracy (%)')\n",
    "plt.title('Accuracy Comparison Between BiLSTM and ELECTRA')\n",
    "plt.ylim(80, 100) # Showing only the 80% to 100% to better display the difference between the models\n",
    "plt.grid(axis='y', linestyle='--', alpha=0.6)\n",
    "\n",
    "# Adding accuracy values on top of the bars\n",
    "for i, acc in enumerate(accuracies):\n",
    "    plt.text(i, acc + 1, f\"{acc:.2f}%\", ha = 'center', fontsize = 10, color = 'black')\n",
    "plt.show()\n",
    "\n",
    "accuracy_difference = accuracies[1] - accuracies[0]\n",
    "print(f\"The Electra model is {accuracy_difference:.2f}% more accurate than the BiLSTM model.\")"
   ]
  },
  {
   "cell_type": "markdown",
   "metadata": {},
   "source": [
    "Both models were trained multiple times with different parameters in the attempt to best represent their performance.  \n",
    "\n",
    "From the results shown, ELECTRA is clearly superior to BiLSTM, considering the already high accuracy percentages of both models, with a 4.22% higher accuracy. It is also outperforming in all classification metrics. With a 5% better recall for the negative reviews, ELECTRA is also the better option to reduce false negatives, especially for more critical domains such as medical diagnoses or legal documents. \n",
    "\n",
    "For this coursework, the small ELECTRA model with 14 million parameters was used due to potential hardware limitations. With two other available models, one with 110 million and an even larger one with 335 million parameters, the accuracy could potentially improve significantly if those models were used instead (GitHub, 2021).\n"
   ]
  },
  {
   "cell_type": "markdown",
   "metadata": {},
   "source": [
    "# V. References\n",
    "\n",
    "1. Hochreiter, S. and Schmidhuber, J. (1997) ‘Long Short-Term Memory’, Neural Computation, 9(8), pp. 1735–1780. Available at: https://doi.org/10.1162/neco.1997.9.8.1735.\n",
    "\n",
    "2. Islam, M.S. (2018) A Deep Recurrent Neural Network with BiLSTM model for Sentiment Classification. Available at: https://www.researchgate.net/publication/328333982_A_Deep_Recurrent_Neural_Network_with_BiLSTM_model_for_Sentiment_Classification.\n",
    "\n",
    "3. Siami-Namini, S., Tavakoli, N. and Namin, A.S. (2019) ‘The Performance of LSTM and BiLSTM in Forecasting Time Series’, 2019 IEEE International Conference on Big Data (Big Data), pp. 3285–3292. Available at: https://doi.org/10.1109/bigdata47090.2019.9005997.\n",
    "\n",
    "4. Clark, K., Luong, M.-T., Le, Q.V. and Manning, C.D. (2020). ELECTRA: Pre-training Text Encoders as Discriminators Rather Than Generators. arXiv (Cornell University). doi:https://doi.org/10.48550/arxiv.2003.10555.\n",
    "‌\n",
    "5. GitHub. (2021). google-research/electra. [online] Available at: https://github.com/google-research/electra.\n",
    "‌\n",
    "6. Kwaai (2024) IMDB_Sentiment, Huggingface.co. Available at: https://huggingface.co/datasets/Kwaai/IMDB_Sentiment (Accessed: 5 December 2024).\n",
    "\n"
   ]
  }
 ],
 "metadata": {
  "kernelspec": {
   "display_name": "Python 3",
   "language": "python",
   "name": "python3"
  },
  "language_info": {
   "codemirror_mode": {
    "name": "ipython",
    "version": 3
   },
   "file_extension": ".py",
   "mimetype": "text/x-python",
   "name": "python",
   "nbconvert_exporter": "python",
   "pygments_lexer": "ipython3",
   "version": "3.12.6"
  }
 },
 "nbformat": 4,
 "nbformat_minor": 2
}
